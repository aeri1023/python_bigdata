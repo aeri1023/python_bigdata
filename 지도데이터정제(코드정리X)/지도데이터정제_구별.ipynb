{
 "cells": [
  {
   "cell_type": "code",
   "execution_count": 1,
   "metadata": {},
   "outputs": [],
   "source": [
    "import googlemaps\n",
    "import pandas as pd\n",
    "import numpy as np\n",
    "import re"
   ]
  },
  {
   "cell_type": "code",
   "execution_count": 6,
   "metadata": {},
   "outputs": [],
   "source": [
    "gmaps_key=\"\"\n",
    "gmaps=googlemaps.Client(key=gmaps_key)"
   ]
  },
  {
   "cell_type": "code",
   "execution_count": 3,
   "metadata": {},
   "outputs": [
    {
     "name": "stdout",
     "output_type": "stream",
     "text": [
      "23\n"
     ]
    }
   ],
   "source": [
    "home_gu=pd.read_csv('home_gu.csv',encoding='utf-8')\n",
    "home_gu.rename(columns={'동대문구':'gu','서울특별시 동대문구 약령시로 107 조수경':'address'},inplace=True)\n",
    "gu=[\"강남구\",\"강동구\",\"강북구\",\"강서구\",\"관악구\",\"광진구\",\"구로구\",\"노원구\",\"동대문구\",\"동작구\",\"마포구\",\"서대문구\",\"서초구\",\"성동구\",\"성북구\",\"송파구\",\"양천구\",\"영등포구\",\"용산구\",\"은평구\",\"종로구\",\"중구\",\"중랑구\"]\n",
    "print(len(gu))\n",
    "gu_drop=[]"
   ]
  },
  {
   "cell_type": "code",
   "execution_count": 5,
   "metadata": {
    "scrolled": true
   },
   "outputs": [
    {
     "name": "stdout",
     "output_type": "stream",
     "text": [
      "716\n"
     ]
    }
   ],
   "source": [
    "#raw데이터를 구별로 나눠서 저장+텍스트 정제(스프레드시트 활용)\n",
    "home_1=home_gu[home_gu['gu']==gu[22]]\n",
    "#home_1.drop(gu_drop,inplace=True)\n",
    "#home_2=home_1[100:200]\n",
    "#print(count)\n",
    "#print(gu_drop)\n",
    "home_ad=[]\n",
    "for name in home_1['address']:\n",
    "    name=name[:-4].split('(')[0]\n",
    "    name = re.sub('\\t', '', name)\n",
    "    home_ad.append(name)\n",
    "print(len(home_ad))\n",
    "home_1=pd.DataFrame({'address':home_ad})\n",
    "home_1.to_csv(\"home23_loc.csv\",sep=',',encoding='utf-8')"
   ]
  },
  {
   "cell_type": "code",
   "execution_count": 8,
   "metadata": {},
   "outputs": [
    {
     "name": "stdout",
     "output_type": "stream",
     "text": [
      "[]\n"
     ]
    }
   ],
   "source": [
    "home=pd.read_csv('home22_loc.csv',encoding='utf-8')\n",
    "home2=home\n",
    "home2.drop(gu_drop,inplace=True)\n",
    "home.head()\n",
    "print(gu_drop)"
   ]
  },
  {
   "cell_type": "code",
   "execution_count": 9,
   "metadata": {
    "scrolled": true
   },
   "outputs": [
    {
     "name": "stdout",
     "output_type": "stream",
     "text": [
      "0\n",
      "10\n",
      "20\n",
      "30\n",
      "40\n",
      "50\n",
      "60\n",
      "70\n",
      "80\n",
      "90\n",
      "100\n",
      "110\n",
      "120\n",
      "130\n",
      "140\n",
      "150\n",
      "160\n",
      "170\n",
      "180\n",
      "190\n",
      "200\n",
      "210\n",
      "220\n",
      "230\n",
      "240\n",
      "250\n",
      "260\n",
      "270\n",
      "280\n",
      "290\n",
      "300\n",
      "310\n",
      "320\n",
      "330\n",
      "340\n",
      "350\n",
      "360\n",
      "370\n",
      "380\n",
      "390\n",
      "400\n",
      "410\n",
      "420\n",
      "430\n",
      "440\n",
      "450\n",
      "460\n",
      "470\n",
      "480\n",
      "490\n",
      "500\n",
      "510\n",
      "520\n",
      "530\n",
      "540\n",
      "550\n",
      "560\n",
      "570\n",
      "580\n",
      "590\n",
      "600\n",
      "610\n",
      "620\n",
      "630\n",
      "640\n",
      "650\n",
      "660\n",
      "670\n",
      "680\n",
      "690\n",
      "700\n",
      "710\n",
      "ok\n"
     ]
    }
   ],
   "source": [
    "home_lat=[]\n",
    "home_lng=[]\n",
    "count=0\n",
    "for name in home['address']:\n",
    "    if(count%10==0):print(count)\n",
    "    count+=1\n",
    "    tmp=gmaps.geocode(name, language='ko')\n",
    "    tmp_loc=tmp[0].get(\"geometry\")\n",
    "    home_lat.append(tmp_loc['location']['lat'])\n",
    "    home_lng.append(tmp_loc['location']['lng'])\n",
    "print(\"ok\")"
   ]
  },
  {
   "cell_type": "code",
   "execution_count": 73,
   "metadata": {
    "scrolled": true
   },
   "outputs": [
    {
     "data": {
      "text/html": [
       "<div>\n",
       "<style scoped>\n",
       "    .dataframe tbody tr th:only-of-type {\n",
       "        vertical-align: middle;\n",
       "    }\n",
       "\n",
       "    .dataframe tbody tr th {\n",
       "        vertical-align: top;\n",
       "    }\n",
       "\n",
       "    .dataframe thead th {\n",
       "        text-align: right;\n",
       "    }\n",
       "</style>\n",
       "<table border=\"1\" class=\"dataframe\">\n",
       "  <thead>\n",
       "    <tr style=\"text-align: right;\">\n",
       "      <th></th>\n",
       "      <th>Unnamed: 0</th>\n",
       "      <th>address</th>\n",
       "    </tr>\n",
       "  </thead>\n",
       "  <tbody>\n",
       "    <tr>\n",
       "      <th>0</th>\n",
       "      <td>0</td>\n",
       "      <td>서울특별시 중랑구 신내로7가길 6</td>\n",
       "    </tr>\n",
       "    <tr>\n",
       "      <th>1</th>\n",
       "      <td>1</td>\n",
       "      <td>서울특별시 중랑구 양원역로 5</td>\n",
       "    </tr>\n",
       "  </tbody>\n",
       "</table>\n",
       "</div>"
      ],
      "text/plain": [
       "   Unnamed: 0              address\n",
       "0           0  서울특별시 중랑구 신내로7가길 6 \n",
       "1           1     서울특별시 중랑구 양원역로 5"
      ]
     },
     "execution_count": 73,
     "metadata": {},
     "output_type": "execute_result"
    }
   ],
   "source": [
    "home.head(count)"
   ]
  },
  {
   "cell_type": "code",
   "execution_count": 84,
   "metadata": {},
   "outputs": [
    {
     "name": "stdout",
     "output_type": "stream",
     "text": [
      "[1]\n"
     ]
    }
   ],
   "source": [
    "gu_drop.append(home.index[count-1])\n",
    "print(gu_drop)"
   ]
  },
  {
   "cell_type": "code",
   "execution_count": 10,
   "metadata": {},
   "outputs": [],
   "source": [
    "home2=pd.DataFrame({'lat':home_lat, 'lng':home_lng})\n",
    "home2.to_csv(\"home22_loc_final.csv\",sep=',',encoding='utf-8')\n",
    "    \n",
    "#cafe.to_csv(\"cafe_loc.csv\",sep=',',encoding='utf-8') #csv파일로 저장(C:\\Users\\go113\\Documents에 저장확인)"
   ]
  },
  {
   "cell_type": "code",
   "execution_count": null,
   "metadata": {},
   "outputs": [],
   "source": []
  }
 ],
 "metadata": {
  "kernelspec": {
   "display_name": "Python 3",
   "language": "python",
   "name": "python3"
  },
  "language_info": {
   "codemirror_mode": {
    "name": "ipython",
    "version": 3
   },
   "file_extension": ".py",
   "mimetype": "text/x-python",
   "name": "python",
   "nbconvert_exporter": "python",
   "pygments_lexer": "ipython3",
   "version": "3.6.4"
  }
 },
 "nbformat": 4,
 "nbformat_minor": 2
}
