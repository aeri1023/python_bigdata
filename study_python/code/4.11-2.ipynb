{
 "cells": [
  {
   "cell_type": "code",
   "execution_count": 3,
   "metadata": {},
   "outputs": [
    {
     "name": "stdout",
     "output_type": "stream",
     "text": [
      "1부터 100사이의 숫자를 맞추시오\n",
      "숫자를 입력하시오 :20\n",
      "up!\n",
      "숫자를 입력하시오 :50\n",
      "up!\n",
      "숫자를 입력하시오 :80\n",
      "down!\n",
      "숫자를 입력하시오 :70\n",
      "down!\n",
      "숫자를 입력하시오 :60\n",
      "down!\n",
      "숫자를 입력하시오 :6\n",
      "up!\n",
      "숫자를 입력하시오 :65\n",
      "down!\n",
      "숫자를 입력하시오 :66\n",
      "down!\n",
      "숫자를 입력하시오 :64\n",
      "down!\n",
      "숫자를 입력하시오 :32\n",
      "up!\n",
      "정답은  55\n"
     ]
    }
   ],
   "source": [
    "#모듈 사용\n",
    "import random\n",
    "tries = 0\n",
    "number = random.randint(1,100);\n",
    "print(\"1부터 100사이의 숫자를 맞추시오\")\n",
    "while tries<10:\n",
    "    guess=int(input(\"숫자를 입력하시오 :\"))\n",
    "    tries=tries+1\n",
    "    if guess<number:\n",
    "        print(\"up!\")\n",
    "    elif guess>number:\n",
    "        print(\"down!\")\n",
    "    else :\n",
    "        break\n",
    "        \n",
    "if guess == number:\n",
    "    print(\"축하합니다. 시도횟수 :\",tries)\n",
    "else :\n",
    "    print(\"정답은 \", number)\n"
   ]
  },
  {
   "cell_type": "code",
   "execution_count": 2,
   "metadata": {},
   "outputs": [
    {
     "name": "stdout",
     "output_type": "stream",
     "text": [
      "['국어', '영어', '음악']\n",
      "['영어', '수학', '체육']\n",
      "['국어', '사회', '과학']\n",
      "모든학생이 좋아하는 과목 : {'음악', '과학', '체육', '영어', '수학', '국어', '사회'}\n",
      "A만 좋아하는 과목 : {'음악'}\n",
      "B만 좋아하는 과목 : {'수학', '체육'}\n",
      "C만 좋아하는 과목 : {'사회', '과학'}\n"
     ]
    }
   ],
   "source": [
    "A=['국어','영어','음악']\n",
    "B=['영어','수학','체육']\n",
    "C=['국어','사회','과학']\n",
    "#각 학생이 좋아하는 과목먼저 출력\n",
    "print(A)\n",
    "print(B)\n",
    "print(C)\n",
    "#모든학생이 좋아하는 과목 출력(set은 자동으로 중복제거)\n",
    "print(\"모든학생이 좋아하는 과목 :\",set(A+B+C))\n",
    "#그리고 그학생만 좋아하는 과목 출력\n",
    "print(\"A만 좋아하는 과목 :\",(set(A)-set(B+C)))\n",
    "print(\"B만 좋아하는 과목 :\",set(B)-set(A+C))\n",
    "print(\"C만 좋아하는 과목 :\",set(C)-set(B+A))"
   ]
  },
  {
   "cell_type": "code",
   "execution_count": 1,
   "metadata": {},
   "outputs": [],
   "source": [
    "import turtle\n",
    "t=turtle.Pen()\n",
    "t.shape(\"circle\")\n",
    "t.fd(100)\n",
    "t.right(90)\n",
    "t.fd(100)\n",
    "t.right(90)\n",
    "t.fd(100)\n",
    "t.right(90)\n",
    "t.fd(100)"
   ]
  },
  {
   "cell_type": "code",
   "execution_count": 1,
   "metadata": {},
   "outputs": [],
   "source": [
    "import turtle\n",
    "t=turtle.Pen()\n",
    "colors=['red','purple','blue','green','yellow','orange']\n",
    "for x in range(360):\n",
    "    t.pencolor(colors[x%6])\n",
    "    t.width(x/100+1)\n",
    "    t.forward(x)\n",
    "    t.left(59)"
   ]
  },
  {
   "cell_type": "code",
   "execution_count": 2,
   "metadata": {},
   "outputs": [
    {
     "data": {
      "text/plain": [
       "['2018 4월 모의고사',\n",
       " '2018 4월 모의고사 등급컷',\n",
       " '이투스',\n",
       " '양의지',\n",
       " '2018 고3 4월 모의고사',\n",
       " '류현진',\n",
       " '메가스터디',\n",
       " '100분 토론',\n",
       " '스카이에듀',\n",
       " '왕대륙',\n",
       " '강한나',\n",
       " '주간아이돌',\n",
       " 'ebsi',\n",
       " '대유그룹',\n",
       " '세월호',\n",
       " '대성마이맥',\n",
       " '나경원',\n",
       " '염동열',\n",
       " '송선미',\n",
       " '어벤져스 인피니티 워']"
      ]
     },
     "execution_count": 2,
     "metadata": {},
     "output_type": "execute_result"
    }
   ],
   "source": [
    "import re \n",
    "import requests\n",
    "re.findall('<span class=\"ah_k\">(.*?)</span>',requests.get('http://naver.com').text)[:20] #실시간 검색어불러오기"
   ]
  },
  {
   "cell_type": "code",
   "execution_count": 6,
   "metadata": {},
   "outputs": [
    {
     "name": "stdout",
     "output_type": "stream",
     "text": [
      "3\n"
     ]
    }
   ],
   "source": [
    "def sum(a,b): #함수\n",
    "    result=a+b\n",
    "    return result\n",
    "print(sum(1,2))"
   ]
  },
  {
   "cell_type": "code",
   "execution_count": 7,
   "metadata": {},
   "outputs": [
    {
     "name": "stdout",
     "output_type": "stream",
     "text": [
      "안녕, 우림\n"
     ]
    }
   ],
   "source": [
    "def hello(name):\n",
    "    print(\"안녕,\", name)\n",
    "hello(\"우림\")\n"
   ]
  },
  {
   "cell_type": "code",
   "execution_count": 9,
   "metadata": {},
   "outputs": [],
   "source": [
    "import turtle #두더지게임\n",
    "import random\n",
    "t= turtle.Pen()\n",
    "t.shape(\"turtle\")\n",
    "t.shapesize(5,5)\n",
    "t.up()\n",
    "\n",
    "def show(x,y):\n",
    "    x=random.randint(-300,300)\n",
    "    y=random.randint(-300,300)\n",
    "    t.goto(x,y)\n",
    "    print(\"잡았다\")\n",
    "t.onclick(show)\n"
   ]
  },
  {
   "cell_type": "code",
   "execution_count": null,
   "metadata": {},
   "outputs": [],
   "source": []
  }
 ],
 "metadata": {
  "kernelspec": {
   "display_name": "Python 3",
   "language": "python",
   "name": "python3"
  },
  "language_info": {
   "codemirror_mode": {
    "name": "ipython",
    "version": 3
   },
   "file_extension": ".py",
   "mimetype": "text/x-python",
   "name": "python",
   "nbconvert_exporter": "python",
   "pygments_lexer": "ipython3",
   "version": "3.6.4"
  }
 },
 "nbformat": 4,
 "nbformat_minor": 2
}
