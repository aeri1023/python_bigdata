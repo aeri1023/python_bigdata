{
 "cells": [
  {
   "cell_type": "code",
   "execution_count": 5,
   "metadata": {},
   "outputs": [],
   "source": [
    "def crawl(y,m,w):\n",
    "    p = {\"type\":'TOTAL',\"year\":y, \"month\":m, \"week\":w, \"page\":pageNo}\n",
    "    r = requests.get(naverUrl,params=p)\n",
    "    soup=BeautifulSoup(r.text,\"lxml\")\n",
    "    _selranking = [title.get_text().strip() for title in soup.select('._tracklist_move > .ranking')]\n",
    "    _selName = [title.get_text().strip() for title in soup.select('._tracklist_move > .name > a.title')]\n",
    "    _selArtist = [artist.get_text().strip() for artist in soup.select('._artist.artist')]\n",
    "    return _selranking, _selName, _selArtist"
   ]
  },
  {
   "cell_type": "code",
   "execution_count": 6,
   "metadata": {
    "scrolled": true
   },
   "outputs": [
    {
     "name": "stdout",
     "output_type": "stream",
     "text": [
      "2017 / 01   5 주차 ok\n",
      "2017 / 02   5 주차 ok\n",
      "2017 / 03   5 주차 ok\n",
      "2017 / 04   5 주차 ok\n",
      "2017 / 05   5 주차 ok\n",
      "2017 / 06   5 주차 ok\n",
      "2017 / 07   5 주차 ok\n",
      "2017 / 08   5 주차 ok\n",
      "2017 / 09   5 주차 ok\n",
      "2017 / 10   5 주차 ok\n",
      "2017 / 11   5 주차 ok\n",
      "2017 / 12   5 주차 ok\n",
      "2018 / 01   5 주차 ok\n",
      "2018 / 02   5 주차 ok\n",
      "2018 / 03   5 주차 ok\n",
      "2018 / 04   5 주차 ok\n",
      "2018 / 05   5 주차 ok\n",
      "2018 / 06   5 주차 ok\n",
      "2018 / 07   5 주차 ok\n",
      "2018 / 08   5 주차 ok\n",
      "2018 / 09   5 주차 ok\n",
      "2018 / 10   5 주차 ok\n",
      "2018 / 11   5 주차 ok\n",
      "2018 / 12   5 주차 ok\n",
      "2019 / 01   5 주차 ok\n",
      "2019 / 02   5 주차 ok\n",
      "2019 / 03   5 주차 ok\n",
      "2019 / 04   2 주차 ok\n"
     ]
    }
   ],
   "source": [
    "import requests\n",
    "from bs4 import BeautifulSoup\n",
    "import pandas as pd\n",
    "#url=https://music.naver.com/listen/history/index.nhn?type=TOTAL_V2&year=2019&month=04&week=2&page=2\n",
    "naverUrl=\"https://music.naver.com/listen/history/index.nhn?\"\n",
    "arr_y= ['2017','2018','2019'] #'2018'\n",
    "arr_m = ['01','02','03','04','05','06','07','08','09','10','11','12']\n",
    "arr_m_19 = ['01','02','03','04']\n",
    "arr_w = ['1','2','3','4','5']\n",
    "arr_w_19 = ['1','2']\n",
    "df_row = 0\n",
    "df = pd.DataFrame(columns=['year','month','week','ranking','artist','name'])\n",
    "for y in arr_y:\n",
    "    if y=='2019': arr_m =arr_m_19\n",
    "    else : arr_m = arr_m\n",
    "    for m in arr_m:\n",
    "        if y=='2019':\n",
    "            if m=='04': arr_w=arr_w_19\n",
    "        else : arr_w =arr_w\n",
    "        for w in arr_w:\n",
    "            for pageNo in range(1,3):\n",
    "                p = {\"type\":'TOTAL',\"year\":y, \"month\":m, \"week\":w, \"page\":pageNo}\n",
    "                r = requests.get(naverUrl,params=p)\n",
    "                soup=BeautifulSoup(r.text,\"lxml\")\n",
    "                _selranking = [title.get_text().strip() for title in soup.select('._tracklist_move > .ranking')]\n",
    "                _selName = [title.get_text().strip() for title in soup.select('._tracklist_move > .name > a.title')]\n",
    "                _selArtist = [artist.get_text().strip() for artist in soup.select('._artist.artist')]\n",
    "                for i in range(len(_selName)):\n",
    "                    if pageNo > 0:\n",
    "                        df_row+=1\n",
    "                        df.loc[df_row]=[y,m,w,_selranking[i],_selArtist[i+1],_selName[i]]\n",
    "        print(y,\"/\",m,\" \",w,\"주차 ok\")\n"
   ]
  },
  {
   "cell_type": "code",
   "execution_count": 7,
   "metadata": {
    "scrolled": true
   },
   "outputs": [],
   "source": [
    "df.to_excel('song.xlsx',encoding='utf-8', index=False)"
   ]
  },
  {
   "cell_type": "code",
   "execution_count": 4,
   "metadata": {
    "scrolled": true
   },
   "outputs": [
    {
     "data": {
      "text/plain": [
       "11988"
      ]
     },
     "execution_count": 4,
     "metadata": {},
     "output_type": "execute_result"
    }
   ],
   "source": [
    "len(df)"
   ]
  },
  {
   "cell_type": "code",
   "execution_count": null,
   "metadata": {},
   "outputs": [],
   "source": []
  }
 ],
 "metadata": {
  "kernelspec": {
   "display_name": "Python 3",
   "language": "python",
   "name": "python3"
  },
  "language_info": {
   "codemirror_mode": {
    "name": "ipython",
    "version": 3
   },
   "file_extension": ".py",
   "mimetype": "text/x-python",
   "name": "python",
   "nbconvert_exporter": "python",
   "pygments_lexer": "ipython3",
   "version": "3.6.4"
  }
 },
 "nbformat": 4,
 "nbformat_minor": 2
}
